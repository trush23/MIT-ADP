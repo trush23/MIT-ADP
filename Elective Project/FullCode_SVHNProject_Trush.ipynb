{
  "cells": [
    {
      "cell_type": "markdown",
      "metadata": {
        "id": "Q91KqmCRu64D"
      },
      "source": [
        "# **Deep Learning Project: Street View Housing Number Digit Recognition**\n",
        "\n",
        "# **Marks: 60**\n",
        "\n",
        "--------------\n",
        "## **Context**\n",
        "--------------\n",
        "\n",
        "One of the most interesting tasks in deep learning is to recognize objects in natural scenes. The ability to process visual information using machine learning algorithms can be very useful as demonstrated in various applications.\n",
        "\n",
        "The SVHN dataset contains over 600,000 labeled digits cropped from street-level photos. It is one of the most popular image recognition datasets. It has been used in neural networks created by Google to improve the map quality by automatically transcribing the address numbers from a patch of pixels. The transcribed number with a known street address helps pinpoint the location of the building it represents.\n",
        "\n",
        "----------------\n",
        "## **Objective**\n",
        "----------------\n",
        "\n",
        "Our objective is to predict the number depicted inside the image by using Artificial or Fully Connected Feed Forward Neural Networks and Convolutional Neural Networks. We will go through various models of each and finally select the one that is giving us the best performance.\n",
        "\n",
        "-------------\n",
        "## **Dataset**\n",
        "-------------\n",
        "Here, we will use a subset of the original data to save some computation time. The dataset is provided as a .h5 file. The basic preprocessing steps have been applied on the dataset."
      ]
    },
    {
      "cell_type": "markdown",
      "metadata": {
        "id": "8z2Z7-OAs8QG"
      },
      "source": [
        "## **Mount the drive**\n",
        "\n",
        "Let us start by mounting the Google drive. You can run the below cell to mount the Google drive."
      ]
    },
    {
      "cell_type": "code",
      "execution_count": null,
      "metadata": {
        "id": "03lDyQUuef7z",
        "colab": {
          "base_uri": "https://localhost:8080/"
        },
        "outputId": "f0163b49-a0e9-482c-b5ea-1582b9e38ce9"
      },
      "outputs": [
        {
          "output_type": "stream",
          "name": "stdout",
          "text": [
            "Mounted at /content/drive\n"
          ]
        }
      ],
      "source": [
        "from google.colab import drive\n",
        "drive.mount('/content/drive')"
      ]
    },
    {
      "cell_type": "markdown",
      "metadata": {
        "id": "C8U3DUa3eNsT"
      },
      "source": [
        "## **Importing the necessary libraries**"
      ]
    },
    {
      "cell_type": "code",
      "execution_count": null,
      "metadata": {
        "id": "-dVzeuF3eQx1"
      },
      "outputs": [],
      "source": [
        "import numpy as np\n",
        "import matplotlib.pyplot as plt\n",
        "import seaborn as sns\n",
        "import math\n",
        "\n",
        "import tensorflow as tf\n",
        "\n",
        "# Keras Sequential Model\n",
        "from tensorflow.keras.models import Sequential\n",
        "from sklearn.model_selection import train_test_split\n",
        "\n",
        "# Importing all the different layers and optimizers. Getting a few extra libraries that may or may not be needed.\n",
        "from tensorflow.keras.layers import Dense, Dropout, Flatten, Conv2D, MaxPooling2D, BatchNormalization, Activation\n",
        "\n",
        "# Optimizers\n",
        "from tensorflow.keras.optimizers import Adam,SGD\n",
        "\n",
        "# For Categorical variables\n",
        "from tensorflow.keras.utils import to_categorical\n",
        "\n",
        "# The below code can be used to ignore the warnings that may occur due to deprecations\n",
        "import warnings\n",
        "warnings.filterwarnings(\"ignore\")"
      ]
    },
    {
      "cell_type": "markdown",
      "metadata": {
        "id": "ucnevGLoyKf_"
      },
      "source": [
        "**Let us check the version of tensorflow.**"
      ]
    },
    {
      "cell_type": "code",
      "execution_count": null,
      "metadata": {
        "id": "W5as47YxyJVk",
        "colab": {
          "base_uri": "https://localhost:8080/"
        },
        "outputId": "cf93433b-1378-4fe8-b08b-2fd1acb51209"
      },
      "outputs": [
        {
          "output_type": "stream",
          "name": "stdout",
          "text": [
            "2.13.0\n"
          ]
        }
      ],
      "source": [
        "print(tf.__version__)"
      ]
    },
    {
      "cell_type": "markdown",
      "metadata": {
        "id": "8lsux2ZwyTTR"
      },
      "source": [
        "## **Load the dataset**\n",
        "\n",
        "- Let us now load the dataset that is available as a .h5 file.\n",
        "- Split the data into the train and the test dataset."
      ]
    },
    {
      "cell_type": "code",
      "execution_count": null,
      "metadata": {
        "id": "BApX9qgNsqV0",
        "scrolled": true
      },
      "outputs": [],
      "source": [
        "#Loading the Dataset\n",
        "import h5py as h5fy\n",
        "h5f=h5fy.File('/content/drive/My Drive/MIT_IDSS/Elective project/SVHN_single_grey1.h5','r')"
      ]
    },
    {
      "cell_type": "code",
      "source": [
        "#Split the Dataset into test and train\n",
        "X_train = h5f['X_train'][:]\n",
        "y_train = h5f['y_train'][:]\n",
        "X_test = h5f['X_test'][:]\n",
        "y_test = h5f['y_test'][:]\n",
        "h5f.close()"
      ],
      "metadata": {
        "id": "xo1_TRZLzSuv"
      },
      "execution_count": null,
      "outputs": []
    },
    {
      "cell_type": "markdown",
      "metadata": {
        "id": "hVe0CYpUgj7w"
      },
      "source": [
        "Check the number of images in the training and the testing dataset."
      ]
    },
    {
      "cell_type": "code",
      "source": [
        "len(X_train), len(X_test)"
      ],
      "metadata": {
        "colab": {
          "base_uri": "https://localhost:8080/"
        },
        "id": "wIezt7jlKw3f",
        "outputId": "92e16822-0ce0-4b08-fd5c-bc1536ea4561"
      },
      "execution_count": null,
      "outputs": [
        {
          "output_type": "execute_result",
          "data": {
            "text/plain": [
              "(42000, 18000)"
            ]
          },
          "metadata": {},
          "execution_count": 6
        }
      ]
    },
    {
      "cell_type": "code",
      "execution_count": null,
      "metadata": {
        "id": "y3lwKpOefkpA",
        "colab": {
          "base_uri": "https://localhost:8080/"
        },
        "outputId": "3f1af106-f6e7-4bd5-c343-e6a04c941c13"
      },
      "outputs": [
        {
          "output_type": "stream",
          "name": "stdout",
          "text": [
            "X_train (42000, 32, 32)\n",
            "y_train (42000,)\n",
            "X_test (18000, 32, 32)\n",
            "y_test (18000,)\n"
          ]
        }
      ],
      "source": [
        "print('X_train' ,X_train.shape)\n",
        "print('y_train' ,y_train.shape)\n",
        "print('X_test' ,X_test.shape)\n",
        "print('y_test' ,y_test.shape)"
      ]
    },
    {
      "cell_type": "markdown",
      "metadata": {
        "id": "akTUOfLlgwoM"
      },
      "source": [
        "**Observation: The test set has 42000 images. Each is 32x32. The training set has 18000 images of teh same size.**"
      ]
    },
    {
      "cell_type": "markdown",
      "metadata": {
        "id": "kxODV6HKykuc"
      },
      "source": [
        "## **Visualizing images**\n",
        "\n",
        "- Use X_train to visualize the first 10 images.\n",
        "- Use Y_train to print the first 10 labels."
      ]
    },
    {
      "cell_type": "code",
      "execution_count": null,
      "metadata": {
        "id": "Bvsc8ytHsqWD",
        "colab": {
          "base_uri": "https://localhost:8080/",
          "height": 120
        },
        "outputId": "e709ada8-a0b6-41a0-938f-db8a9b8fa06f"
      },
      "outputs": [
        {
          "output_type": "display_data",
          "data": {
            "text/plain": [
              "<Figure size 1000x100 with 10 Axes>"
            ],
            "image/png": "[encoded data removed]"
          },
          "metadata": {}
        },
        {
          "output_type": "stream",
          "name": "stdout",
          "text": [
            "label for each of the above image: [2 6 7 4 4 0 3 0 7 3]\n"
          ]
        }
      ],
      "source": [
        "#Visualizing first 10 images and printing their labels.\n",
        "plt.figure(figsize = (10, 1))\n",
        "\n",
        "for i in range(10):\n",
        "\n",
        "    plt.subplot(1, 10, i+1)\n",
        "\n",
        "    plt.imshow(X_train[i], cmap = \"gray\")\n",
        "\n",
        "    plt.axis('off')\n",
        "\n",
        "plt.show()\n",
        "\n",
        "print('label for each of the above image: %s' % (y_train[0:10]))"
      ]
    },
    {
      "cell_type": "markdown",
      "metadata": {
        "id": "kzoyeXHOy80N"
      },
      "source": [
        "## **Data preparation**\n",
        "\n",
        "- Print the shape and the array of pixels for the first image in the training dataset.\n",
        "- Normalize the train and the test dataset by dividing by 255.\n",
        "- Print the new shapes of the train and the test dataset.\n",
        "- One-hot encode the target variable."
      ]
    },
    {
      "cell_type": "code",
      "execution_count": null,
      "metadata": {
        "id": "NqndzQXng9rL",
        "colab": {
          "base_uri": "https://localhost:8080/"
        },
        "outputId": "c0b5fa00-9497-414d-bac0-8a76caaa6b04"
      },
      "outputs": [
        {
          "output_type": "stream",
          "name": "stdout",
          "text": [
            "Shape: (32, 32)\n",
            "First image:\n",
            " [[ 33.0704  30.2601  26.852  ...  71.4471  58.2204  42.9939]\n",
            " [ 25.2283  25.5533  29.9765 ... 113.0209 103.3639  84.2949]\n",
            " [ 26.2775  22.6137  40.4763 ... 113.3028 121.775  115.4228]\n",
            " ...\n",
            " [ 28.5502  36.212   45.0801 ...  24.1359  25.0927  26.0603]\n",
            " [ 38.4352  26.4733  23.2717 ...  28.1094  29.4683  30.0661]\n",
            " [ 50.2984  26.0773  24.0389 ...  49.6682  50.853   53.0377]]\n"
          ]
        }
      ],
      "source": [
        "#Shape and array of first image in training dataset.\n",
        "print(\"Shape:\", X_train[0].shape)\n",
        "\n",
        "print(\"First image:\\n\", X_train[0])"
      ]
    },
    {
      "cell_type": "code",
      "source": [
        "# Reshaping the dataset, flattening and converting 3D to 2D\n",
        "X_train = X_train.reshape(X_train.shape[0], 1024)\n",
        "\n",
        "X_test = X_test.reshape(X_test.shape[0], 1024)"
      ],
      "metadata": {
        "id": "XFvDpdT71tXn"
      },
      "execution_count": null,
      "outputs": []
    },
    {
      "cell_type": "markdown",
      "metadata": {
        "id": "f4CQkKtQ0XII"
      },
      "source": [
        "### **Normalize the train and the test data**"
      ]
    },
    {
      "cell_type": "code",
      "execution_count": null,
      "metadata": {
        "id": "q_yUUTp_mUzB"
      },
      "outputs": [],
      "source": [
        "# Normalizing the image data for test and train sets\n",
        "X_train_normalized = X_train.astype('float32')/255.0\n",
        "X_test_normalized = X_test.astype('float32')/255.0"
      ]
    },
    {
      "cell_type": "markdown",
      "metadata": {
        "id": "YSlYN6pb8kMY"
      },
      "source": [
        "Print the shapes of Training and Test data"
      ]
    },
    {
      "cell_type": "code",
      "execution_count": null,
      "metadata": {
        "id": "t7FSqOpamWkH",
        "colab": {
          "base_uri": "https://localhost:8080/"
        },
        "outputId": "9f554e63-67d3-46cd-f63d-f82e24e46bc1"
      },
      "outputs": [
        {
          "output_type": "stream",
          "name": "stdout",
          "text": [
            "Training Shape: (42000, 1024) (42000,)\n",
            "Test Shape: (18000, 1024) (18000,)\n"
          ]
        }
      ],
      "source": [
        "#Shape and array of first image in training dataset.\n",
        "print(\"Training Shape:\", X_train_normalized.shape, y_train.shape)\n",
        "print(\"Test Shape:\",X_test_normalized.shape, y_test.shape)"
      ]
    },
    {
      "cell_type": "markdown",
      "metadata": {
        "id": "0uLxXBpz81vk"
      },
      "source": [
        "### **One-hot encode output**"
      ]
    },
    {
      "cell_type": "code",
      "execution_count": null,
      "metadata": {
        "id": "zL0lYER4sqWw",
        "colab": {
          "base_uri": "https://localhost:8080/"
        },
        "outputId": "131c3188-acad-45e0-dd79-668d10474ba4"
      },
      "outputs": [
        {
          "output_type": "execute_result",
          "data": {
            "text/plain": [
              "array([[0., 1., 0., ..., 0., 0., 0.],\n",
              "       [0., 0., 0., ..., 1., 0., 0.],\n",
              "       [0., 0., 1., ..., 0., 0., 0.],\n",
              "       ...,\n",
              "       [0., 0., 0., ..., 1., 0., 0.],\n",
              "       [0., 0., 0., ..., 0., 0., 1.],\n",
              "       [0., 0., 1., ..., 0., 0., 0.]], dtype=float32)"
            ]
          },
          "metadata": {},
          "execution_count": 13
        }
      ],
      "source": [
        "# Creating one-hot encoded representation of target labels\n",
        "\n",
        "y_train = to_categorical(y_train)\n",
        "\n",
        "y_test= to_categorical(y_test)\n",
        "\n",
        "#Labels..\n",
        "y_test\n"
      ]
    },
    {
      "cell_type": "markdown",
      "metadata": {
        "id": "ViqPOTquCF76"
      },
      "source": [
        "**Observation: Eache category is now one-hot encoded vector, meaning there is a 1 in one particular location and 0 everywhere else in that row or column.**\n"
      ]
    },
    {
      "cell_type": "markdown",
      "metadata": {
        "id": "yH-gVrzuByNA"
      },
      "source": [
        "## **Model Building**\n",
        "\n",
        "Now that we have done the data preprocessing, let's build an ANN model.\n",
        "\n",
        "### Fix the seed for random number generators"
      ]
    },
    {
      "cell_type": "code",
      "execution_count": null,
      "metadata": {
        "id": "BcKRwrGn0XIL"
      },
      "outputs": [],
      "source": [
        "# Fixing the seed for random number generators\n",
        "import random\n",
        "np.random.seed(42)\n",
        "random.seed(42)\n",
        "tf.random.set_seed(42)"
      ]
    },
    {
      "cell_type": "markdown",
      "metadata": {
        "id": "UJDUoaEj1d6e"
      },
      "source": [
        "### **Model Architecture**\n",
        "- Write a function that returns a sequential model with the following architecture:\n",
        " - First hidden layer with **64 nodes and the relu activation** and the **input shape = (1024, )**\n",
        " - Second hidden layer with **32 nodes and the relu activation**\n",
        " - Output layer with **activation as 'softmax' and number of nodes equal to the number of classes, i.e., 10**\n",
        " - Compile the model with the **loss equal to categorical_crossentropy, optimizer equal to Adam(learning_rate = 0.001), and metric equal to 'accuracy'**. Do not fit the model here, just return the compiled model.\n",
        "- Call the nn_model_1 function and store the model in a new variable.\n",
        "- Print the summary of the model.\n",
        "- Fit on the train data with a **validation split of 0.2, batch size = 128, verbose = 1, and epochs = 20**. Store the model building history to use later for visualization."
      ]
    },
    {
      "cell_type": "markdown",
      "metadata": {
        "id": "A48z6ucF0XIP"
      },
      "source": [
        "### **Build and train an ANN model as per the above mentioned architecture.**"
      ]
    },
    {
      "cell_type": "code",
      "execution_count": null,
      "metadata": {
        "id": "Cmi81Gr5sqW-"
      },
      "outputs": [],
      "source": [
        "#First hidden layer with 64 nodes and the relu activation and the input shape = (1024, )\n",
        "#Second hidden layer with 32 nodes and the relu activation\n",
        "#Output layer with activation as 'softmax' and number of nodes equal to the number of classes, i.e., 10\n",
        "\n",
        "def nn_model_1():\n",
        "  model=Sequential()\n",
        "\n",
        "  # Adding a sequential layer with 64 neurons and Relu activation.\n",
        "  model.add(Dense(64,input_shape = (1024, ), activation='relu'))\n",
        "\n",
        "  # Adding a second layer with 32 nodes and relu activation\n",
        "  model.add(Dense(32, activation='relu'))\n",
        "\n",
        "  #Output layer with 10 nodes because there are ten classes and softmax activation because it is a classification problem.\n",
        "  model.add(Dense(10, activation='softmax'))\n",
        "\n",
        "  #Definining Optimizer\n",
        "  opt = Adam(learning_rate=0.001)\n",
        "\n",
        "  #Compile the model\n",
        "  model.compile(optimizer = opt, loss = 'categorical_crossentropy', metrics = ['accuracy'])\n",
        "\n",
        "  return(model)\n"
      ]
    },
    {
      "cell_type": "code",
      "source": [
        "#Building the model\n",
        "model_1=nn_model_1()"
      ],
      "metadata": {
        "id": "CjxAG6voT7M1"
      },
      "execution_count": null,
      "outputs": []
    },
    {
      "cell_type": "code",
      "source": [
        "#Summary of the model\n",
        "model_1.summary()"
      ],
      "metadata": {
        "colab": {
          "base_uri": "https://localhost:8080/"
        },
        "id": "lnaHc52kURYH",
        "outputId": "e53b4ab3-4792-42e3-9c76-19402800da14"
      },
      "execution_count": null,
      "outputs": [
        {
          "output_type": "stream",
          "name": "stdout",
          "text": [
            "Model: \"sequential\"\n",
            "_________________________________________________________________\n",
            " Layer (type)                Output Shape              Param #   \n",
            "=================================================================\n",
            " dense (Dense)               (None, 64)                65600     \n",
            "                                                                 \n",
            " dense_1 (Dense)             (None, 32)                2080      \n",
            "                                                                 \n",
            " dense_2 (Dense)             (None, 10)                330       \n",
            "                                                                 \n",
            "=================================================================\n",
            "Total params: 68010 (265.66 KB)\n",
            "Trainable params: 68010 (265.66 KB)\n",
            "Non-trainable params: 0 (0.00 Byte)\n",
            "_________________________________________________________________\n"
          ]
        }
      ]
    },
    {
      "cell_type": "code",
      "source": [
        "history_model_1 = model_1.fit(X_train_normalized,\n",
        "                            y_train,\n",
        "                            validation_split=0.2,\n",
        "                            batch_size=128,\n",
        "                            epochs = 20,\n",
        "                            verbose = 1)"
      ],
      "metadata": {
        "colab": {
          "base_uri": "https://localhost:8080/"
        },
        "id": "JI2FpJAcUuzx",
        "outputId": "31e77aae-d6a6-40c4-c0b5-e02b96781faa"
      },
      "execution_count": null,
      "outputs": [
        {
          "output_type": "stream",
          "name": "stdout",
          "text": [
            "Epoch 1/20\n",
            "263/263 [==============================] - 3s 9ms/step - loss: 2.2934 - accuracy: 0.1233 - val_loss: 2.2324 - val_accuracy: 0.1744\n",
            "Epoch 2/20\n",
            "263/263 [==============================] - 2s 7ms/step - loss: 2.0774 - accuracy: 0.2509 - val_loss: 1.9318 - val_accuracy: 0.3089\n",
            "Epoch 3/20\n",
            "263/263 [==============================] - 1s 5ms/step - loss: 1.8679 - accuracy: 0.3405 - val_loss: 1.7779 - val_accuracy: 0.3869\n",
            "Epoch 4/20\n",
            "263/263 [==============================] - 1s 4ms/step - loss: 1.6573 - accuracy: 0.4391 - val_loss: 1.5288 - val_accuracy: 0.4907\n",
            "Epoch 5/20\n",
            "263/263 [==============================] - 1s 4ms/step - loss: 1.4635 - accuracy: 0.5180 - val_loss: 1.4202 - val_accuracy: 0.5255\n",
            "Epoch 6/20\n",
            "263/263 [==============================] - 1s 4ms/step - loss: 1.3588 - accuracy: 0.5568 - val_loss: 1.3240 - val_accuracy: 0.5768\n",
            "Epoch 7/20\n",
            "263/263 [==============================] - 1s 5ms/step - loss: 1.2895 - accuracy: 0.5839 - val_loss: 1.2558 - val_accuracy: 0.6013\n",
            "Epoch 8/20\n",
            "263/263 [==============================] - 1s 5ms/step - loss: 1.2375 - accuracy: 0.6044 - val_loss: 1.2217 - val_accuracy: 0.6221\n",
            "Epoch 9/20\n",
            "263/263 [==============================] - 1s 4ms/step - loss: 1.1990 - accuracy: 0.6206 - val_loss: 1.1674 - val_accuracy: 0.6330\n",
            "Epoch 10/20\n",
            "263/263 [==============================] - 1s 4ms/step - loss: 1.1666 - accuracy: 0.6334 - val_loss: 1.1484 - val_accuracy: 0.6420\n",
            "Epoch 11/20\n",
            "263/263 [==============================] - 2s 6ms/step - loss: 1.1465 - accuracy: 0.6399 - val_loss: 1.1256 - val_accuracy: 0.6462\n",
            "Epoch 12/20\n",
            "263/263 [==============================] - 2s 7ms/step - loss: 1.1239 - accuracy: 0.6485 - val_loss: 1.1110 - val_accuracy: 0.6533\n",
            "Epoch 13/20\n",
            "263/263 [==============================] - 2s 7ms/step - loss: 1.1017 - accuracy: 0.6589 - val_loss: 1.0951 - val_accuracy: 0.6612\n",
            "Epoch 14/20\n",
            "263/263 [==============================] - 1s 4ms/step - loss: 1.0981 - accuracy: 0.6596 - val_loss: 1.0940 - val_accuracy: 0.6620\n",
            "Epoch 15/20\n",
            "263/263 [==============================] - 1s 4ms/step - loss: 1.0854 - accuracy: 0.6636 - val_loss: 1.0948 - val_accuracy: 0.6650\n",
            "Epoch 16/20\n",
            "263/263 [==============================] - 1s 4ms/step - loss: 1.0715 - accuracy: 0.6682 - val_loss: 1.1295 - val_accuracy: 0.6475\n",
            "Epoch 17/20\n",
            "263/263 [==============================] - 1s 4ms/step - loss: 1.0626 - accuracy: 0.6713 - val_loss: 1.0618 - val_accuracy: 0.6744\n",
            "Epoch 18/20\n",
            "263/263 [==============================] - 1s 4ms/step - loss: 1.0535 - accuracy: 0.6746 - val_loss: 1.0626 - val_accuracy: 0.6702\n",
            "Epoch 19/20\n",
            "263/263 [==============================] - 1s 4ms/step - loss: 1.0486 - accuracy: 0.6745 - val_loss: 1.0610 - val_accuracy: 0.6736\n",
            "Epoch 20/20\n",
            "263/263 [==============================] - 1s 4ms/step - loss: 1.0420 - accuracy: 0.6770 - val_loss: 1.0535 - val_accuracy: 0.6745\n"
          ]
        }
      ]
    },
    {
      "cell_type": "markdown",
      "metadata": {
        "id": "MeF8XSWz0XIU"
      },
      "source": [
        "### **Plot the Training and Validation Accuracies and write down your Observations.**"
      ]
    },
    {
      "cell_type": "code",
      "execution_count": null,
      "metadata": {
        "id": "lt77zgGMP4yw",
        "colab": {
          "base_uri": "https://localhost:8080/",
          "height": 410
        },
        "outputId": "14295216-a85e-4998-84bc-e997974f85bb"
      },
      "outputs": [
        {
          "output_type": "display_data",
          "data": {
            "text/plain": [
              "<Figure size 600x400 with 1 Axes>"
            ],
            "image/png": "[encoded data removed]"
          },
          "metadata": {}
        }
      ],
      "source": [
        "# Plotting the accuracies\n",
        "\n",
        "dict_hist = history_model_1.history\n",
        "\n",
        "list_ep = [i for i in range(1, 21)]\n",
        "\n",
        "plt.figure(figsize = (6, 4))\n",
        "\n",
        "plt.plot(list_ep, dict_hist['accuracy'], ls = '--', label = 'accuracy')\n",
        "\n",
        "plt.plot(list_ep, dict_hist['val_accuracy'], ls = '--', label = 'val_accuracy')\n",
        "\n",
        "plt.title('Model Accuracy')\n",
        "\n",
        "plt.ylabel('Accuracy')\n",
        "\n",
        "plt.xlabel('Epochs')\n",
        "\n",
        "plt.legend()\n",
        "\n",
        "plt.show()"
      ]
    },
    {
      "cell_type": "markdown",
      "metadata": {
        "id": "pGBbQpLONX7k"
      },
      "source": [
        "**Observations:**\n",
        "\n",
        "**This is pretty poor performance with test accuracy of around 67% and validadtion accuracy of 67%. While the accuracy is low, the performance has the same behavior for both training and validation. This model needs to be improved by batch normalization, dropout or increasing the number of neurons and/or layers.**"
      ]
    },
    {
      "cell_type": "markdown",
      "metadata": {
        "id": "z0qgLMBZm5-K"
      },
      "source": [
        "Let's build one more model with higher complexity and see if we can improve the performance of the model.\n",
        "\n",
        "First, we need to clear the previous model's history from the Keras backend. Also, let's fix the seed again after clearing the backend."
      ]
    },
    {
      "cell_type": "code",
      "execution_count": null,
      "metadata": {
        "id": "I_ih3wEU9wIk"
      },
      "outputs": [],
      "source": [
        "# Clearing backend\n",
        "from tensorflow.keras import backend\n",
        "backend.clear_session()"
      ]
    },
    {
      "cell_type": "code",
      "source": [
        "# Fixing the seed for random number generators\n",
        "import random\n",
        "np.random.seed(42)\n",
        "random.seed(42)\n",
        "tf.random.set_seed(42)"
      ],
      "metadata": {
        "id": "yR-ieN9kbykW"
      },
      "execution_count": null,
      "outputs": []
    },
    {
      "cell_type": "markdown",
      "metadata": {
        "id": "lT6o3TIKuCtk"
      },
      "source": [
        "### **Second Model Architecture**\n",
        "- Write a function that returns a sequential model with the following architecture:\n",
        " - First hidden layer with **256 nodes and the relu activation** and the **input shape = (1024, )**\n",
        " - Second hidden layer with **128 nodes and the relu activation**\n",
        " - Add the **Dropout layer with the rate equal to 0.2**\n",
        " - Third hidden layer with **64 nodes and the relu activation**\n",
        " - Fourth hidden layer with **64 nodes and the relu activation**\n",
        " - Fifth hidden layer with **32 nodes and the relu activation**\n",
        " - Add the **BatchNormalization layer**\n",
        " - Output layer with **activation as 'softmax' and number of nodes equal to the number of classes, i.e., 10**\n",
        " -Compile the model with the **loss equal to categorical_crossentropy, optimizer equal to Adam(learning_rate = 0.0005), and metric equal to 'accuracy'**. Do not fit the model here, just return the compiled model.\n",
        "- Call the nn_model_2 function and store the model in a new variable.\n",
        "- Print the summary of the model.\n",
        "- Fit on the train data with a **validation split of 0.2, batch size = 128, verbose = 1, and epochs = 30**. Store the model building history to use later for visualization."
      ]
    },
    {
      "cell_type": "markdown",
      "metadata": {
        "id": "f-ZjNBmH0XIV"
      },
      "source": [
        "### **Build and train the new ANN model as per the above mentioned architecture**"
      ]
    },
    {
      "cell_type": "code",
      "execution_count": null,
      "metadata": {
        "id": "EEPYLFIPnSDP"
      },
      "outputs": [],
      "source": [
        "#Second Model architeture\n",
        "def nn_model_2():\n",
        "  model=Sequential()\n",
        "\n",
        "  # Adding a sequential layer with 256 neurons and Relu activation.\n",
        "  model.add(Dense(256,input_shape = (1024, ), activation='relu'))\n",
        "  #model.add(BatchNormalization())\n",
        "  # Adding a second layer with 128 nodes and relu activation\n",
        "  model.add(Dense(128, activation='relu'))\n",
        "  #model.add(BatchNormalization())\n",
        "  # Add a dropout layer\n",
        "  model.add(Dropout(0.2))\n",
        "  # Adding a second layer with 64 nodes and relu activation\n",
        "  model.add(Dense(64, activation='relu'))\n",
        "  model.add(Dense(64, activation='relu'))\n",
        "  model.add(Dense(32, activation='relu'))\n",
        "\n",
        "  #Adding Batch Normalization\n",
        "  model.add(BatchNormalization())\n",
        "\n",
        "  #Output layer with 10 nodes because there are ten classes and softmax activation because it is a classification problem.\n",
        "  model.add(Dense(10, activation='softmax'))\n",
        "\n",
        "  #Definining Optimizer\n",
        "  opt = Adam(learning_rate=0.0005)\n",
        "\n",
        "  #Compile the model\n",
        "  model.compile(optimizer = opt, loss = 'categorical_crossentropy', metrics = ['accuracy'])\n",
        "\n",
        "  return(model)\n"
      ]
    },
    {
      "cell_type": "code",
      "source": [
        "#Building the model\n",
        "model_2=nn_model_2()"
      ],
      "metadata": {
        "id": "cFJwFItRfUSl"
      },
      "execution_count": null,
      "outputs": []
    },
    {
      "cell_type": "code",
      "source": [
        "#Summary of the model\n",
        "model_2.summary()"
      ],
      "metadata": {
        "colab": {
          "base_uri": "https://localhost:8080/"
        },
        "id": "baGndhS5gY4A",
        "outputId": "0053a839-dc86-4bf3-e76d-b8938c2f6136"
      },
      "execution_count": null,
      "outputs": [
        {
          "output_type": "stream",
          "name": "stdout",
          "text": [
            "Model: \"sequential\"\n",
            "_________________________________________________________________\n",
            " Layer (type)                Output Shape              Param #   \n",
            "=================================================================\n",
            " dense (Dense)               (None, 256)               262400    \n",
            "                                                                 \n",
            " dense_1 (Dense)             (None, 128)               32896     \n",
            "                                                                 \n",
            " dropout (Dropout)           (None, 128)               0         \n",
            "                                                                 \n",
            " dense_2 (Dense)             (None, 64)                8256      \n",
            "                                                                 \n",
            " dense_3 (Dense)             (None, 64)                4160      \n",
            "                                                                 \n",
            " dense_4 (Dense)             (None, 32)                2080      \n",
            "                                                                 \n",
            " batch_normalization (Batch  (None, 32)                128       \n",
            " Normalization)                                                  \n",
            "                                                                 \n",
            " dense_5 (Dense)             (None, 10)                330       \n",
            "                                                                 \n",
            "=================================================================\n",
            "Total params: 310250 (1.18 MB)\n",
            "Trainable params: 310186 (1.18 MB)\n",
            "Non-trainable params: 64 (256.00 Byte)\n",
            "_________________________________________________________________\n"
          ]
        }
      ]
    },
    {
      "cell_type": "code",
      "source": [
        "history_model_2 = model_2.fit(X_train_normalized,\n",
        "                            y_train,\n",
        "                            validation_split=0.2,\n",
        "                            batch_size=128,\n",
        "                            epochs = 30,\n",
        "                            verbose = 1)"
      ],
      "metadata": {
        "colab": {
          "base_uri": "https://localhost:8080/"
        },
        "id": "TN4eVp2bgulJ",
        "outputId": "98a7b0eb-f5a9-49d9-c101-03a09ecc4a96"
      },
      "execution_count": null,
      "outputs": [
        {
          "output_type": "stream",
          "name": "stdout",
          "text": [
            "Epoch 1/30\n",
            "263/263 [==============================] - 8s 22ms/step - loss: 2.3300 - accuracy: 0.1007 - val_loss: 2.3138 - val_accuracy: 0.0967\n",
            "Epoch 2/30\n",
            "263/263 [==============================] - 4s 16ms/step - loss: 2.3042 - accuracy: 0.1028 - val_loss: 2.3015 - val_accuracy: 0.1100\n",
            "Epoch 3/30\n",
            "263/263 [==============================] - 3s 11ms/step - loss: 2.1699 - accuracy: 0.1746 - val_loss: 2.0564 - val_accuracy: 0.2769\n",
            "Epoch 4/30\n",
            "263/263 [==============================] - 3s 11ms/step - loss: 1.6402 - accuracy: 0.4238 - val_loss: 1.4454 - val_accuracy: 0.5273\n",
            "Epoch 5/30\n",
            "263/263 [==============================] - 3s 11ms/step - loss: 1.3608 - accuracy: 0.5385 - val_loss: 1.3064 - val_accuracy: 0.5701\n",
            "Epoch 6/30\n",
            "263/263 [==============================] - 4s 16ms/step - loss: 1.2484 - accuracy: 0.5870 - val_loss: 1.1214 - val_accuracy: 0.6388\n",
            "Epoch 7/30\n",
            "263/263 [==============================] - 3s 12ms/step - loss: 1.1568 - accuracy: 0.6251 - val_loss: 1.1023 - val_accuracy: 0.6400\n",
            "Epoch 8/30\n",
            "263/263 [==============================] - 3s 11ms/step - loss: 1.0930 - accuracy: 0.6474 - val_loss: 1.0609 - val_accuracy: 0.6599\n",
            "Epoch 9/30\n",
            "263/263 [==============================] - 3s 11ms/step - loss: 1.0410 - accuracy: 0.6645 - val_loss: 0.9592 - val_accuracy: 0.6988\n",
            "Epoch 10/30\n",
            "263/263 [==============================] - 3s 13ms/step - loss: 1.0024 - accuracy: 0.6768 - val_loss: 1.0474 - val_accuracy: 0.6630\n",
            "Epoch 11/30\n",
            "263/263 [==============================] - 4s 16ms/step - loss: 0.9695 - accuracy: 0.6920 - val_loss: 0.9080 - val_accuracy: 0.7135\n",
            "Epoch 12/30\n",
            "263/263 [==============================] - 3s 11ms/step - loss: 0.9443 - accuracy: 0.7001 - val_loss: 0.9193 - val_accuracy: 0.7099\n",
            "Epoch 13/30\n",
            "263/263 [==============================] - 3s 11ms/step - loss: 0.9161 - accuracy: 0.7080 - val_loss: 0.8728 - val_accuracy: 0.7248\n",
            "Epoch 14/30\n",
            "263/263 [==============================] - 3s 11ms/step - loss: 0.9076 - accuracy: 0.7126 - val_loss: 0.8793 - val_accuracy: 0.7201\n",
            "Epoch 15/30\n",
            "263/263 [==============================] - 4s 15ms/step - loss: 0.8895 - accuracy: 0.7186 - val_loss: 0.8371 - val_accuracy: 0.7340\n",
            "Epoch 16/30\n",
            "263/263 [==============================] - 4s 14ms/step - loss: 0.8590 - accuracy: 0.7280 - val_loss: 0.8546 - val_accuracy: 0.7277\n",
            "Epoch 17/30\n",
            "263/263 [==============================] - 3s 11ms/step - loss: 0.8568 - accuracy: 0.7273 - val_loss: 0.8223 - val_accuracy: 0.7383\n",
            "Epoch 18/30\n",
            "263/263 [==============================] - 3s 11ms/step - loss: 0.8312 - accuracy: 0.7356 - val_loss: 0.8244 - val_accuracy: 0.7407\n",
            "Epoch 19/30\n",
            "263/263 [==============================] - 3s 13ms/step - loss: 0.8291 - accuracy: 0.7371 - val_loss: 0.8251 - val_accuracy: 0.7390\n",
            "Epoch 20/30\n",
            "263/263 [==============================] - 4s 16ms/step - loss: 0.8162 - accuracy: 0.7404 - val_loss: 0.7838 - val_accuracy: 0.7620\n",
            "Epoch 21/30\n",
            "263/263 [==============================] - 3s 11ms/step - loss: 0.8021 - accuracy: 0.7452 - val_loss: 0.7785 - val_accuracy: 0.7565\n",
            "Epoch 22/30\n",
            "263/263 [==============================] - 3s 11ms/step - loss: 0.7961 - accuracy: 0.7456 - val_loss: 0.7970 - val_accuracy: 0.7454\n",
            "Epoch 23/30\n",
            "263/263 [==============================] - 3s 11ms/step - loss: 0.7706 - accuracy: 0.7554 - val_loss: 0.8123 - val_accuracy: 0.7467\n",
            "Epoch 24/30\n",
            "263/263 [==============================] - 4s 16ms/step - loss: 0.7640 - accuracy: 0.7560 - val_loss: 0.7439 - val_accuracy: 0.7695\n",
            "Epoch 25/30\n",
            "263/263 [==============================] - 3s 13ms/step - loss: 0.7580 - accuracy: 0.7611 - val_loss: 0.7591 - val_accuracy: 0.7610\n",
            "Epoch 26/30\n",
            "263/263 [==============================] - 3s 11ms/step - loss: 0.7625 - accuracy: 0.7589 - val_loss: 0.7496 - val_accuracy: 0.7717\n",
            "Epoch 27/30\n",
            "263/263 [==============================] - 3s 11ms/step - loss: 0.7435 - accuracy: 0.7633 - val_loss: 0.7357 - val_accuracy: 0.7724\n",
            "Epoch 28/30\n",
            "263/263 [==============================] - 3s 13ms/step - loss: 0.7304 - accuracy: 0.7677 - val_loss: 0.6966 - val_accuracy: 0.7904\n",
            "Epoch 29/30\n",
            "263/263 [==============================] - 4s 16ms/step - loss: 0.7363 - accuracy: 0.7663 - val_loss: 0.7326 - val_accuracy: 0.7724\n",
            "Epoch 30/30\n",
            "263/263 [==============================] - 3s 11ms/step - loss: 0.7224 - accuracy: 0.7718 - val_loss: 0.8329 - val_accuracy: 0.7490\n"
          ]
        }
      ]
    },
    {
      "cell_type": "markdown",
      "metadata": {
        "id": "ZJYsvjmw0XIX"
      },
      "source": [
        "### **Plot the Training and Validation Accuracies and write down your Observations.**"
      ]
    },
    {
      "cell_type": "code",
      "execution_count": null,
      "metadata": {
        "id": "01ig6BrF1KVy",
        "colab": {
          "base_uri": "https://localhost:8080/",
          "height": 410
        },
        "outputId": "bcc5c703-9347-4764-bd9a-5234efa18508"
      },
      "outputs": [
        {
          "output_type": "display_data",
          "data": {
            "text/plain": [
              "<Figure size 600x400 with 1 Axes>"
            ],
            "image/png": "[encoded data removed]"
          },
          "metadata": {}
        }
      ],
      "source": [
        "# Plotting the accuracies\n",
        "\n",
        "dict_hist = history_model_2.history\n",
        "\n",
        "list_ep = [i for i in range(1, 31)]\n",
        "\n",
        "plt.figure(figsize = (6, 4))\n",
        "\n",
        "plt.plot(list_ep, dict_hist['accuracy'], ls = '--', label = 'training_accuracy')\n",
        "\n",
        "plt.plot(list_ep, dict_hist['val_accuracy'], ls = '--', label = 'val_accuracy')\n",
        "\n",
        "plt.title('Model Accuracy')\n",
        "\n",
        "plt.ylabel('Accuracy')\n",
        "\n",
        "plt.xlabel('Epochs')\n",
        "\n",
        "plt.legend()\n",
        "\n",
        "plt.show()"
      ]
    },
    {
      "cell_type": "markdown",
      "metadata": {
        "id": "VPW1LlD61RDn"
      },
      "source": [
        "**Observations: The performance improved to an accuracy of 77% in training and 75% in validation. In various experiemnets commented out in the code above, I could take the accuracy close to 80% by introducing BatchNormalization and Dropout after every Dense layer**"
      ]
    },
    {
      "cell_type": "markdown",
      "metadata": {
        "id": "8kuXx9Bvu00f"
      },
      "source": [
        "## **Predictions on the test data**\n",
        "\n",
        "- Make predictions on the test set using the second model.\n",
        "- Print the obtained results using the classification report and the confusion matrix.\n",
        "- Final observations on the obtained results."
      ]
    },
    {
      "cell_type": "code",
      "execution_count": null,
      "metadata": {
        "id": "xbWMEtTj5Ad0",
        "colab": {
          "base_uri": "https://localhost:8080/"
        },
        "outputId": "cf1f5445-7368-4725-c2f4-154cc82a2b9e"
      },
      "outputs": [
        {
          "output_type": "stream",
          "name": "stdout",
          "text": [
            "563/563 [==============================] - 2s 2ms/step\n"
          ]
        }
      ],
      "source": [
        "test_pred = model_2.predict(X_test_normalized)\n",
        "\n",
        "test_pred = np.argmax(test_pred, axis = -1)"
      ]
    },
    {
      "cell_type": "markdown",
      "metadata": {
        "id": "i3li8Ib08yts"
      },
      "source": [
        "**Note:** Earlier, we noticed that each entry of the target variable is a one-hot encoded vector but to print the classification report and confusion matrix, we must convert each entry of y_test to a single label."
      ]
    },
    {
      "cell_type": "code",
      "execution_count": null,
      "metadata": {
        "id": "NByu7uAQ8x9P"
      },
      "outputs": [],
      "source": [
        "# Converting each entry to single label from one-hot encoded vector\n",
        "\n",
        "y_test= np.argmax(y_test, axis = -1)"
      ]
    },
    {
      "cell_type": "markdown",
      "metadata": {
        "id": "1_SIoopr0XIg"
      },
      "source": [
        "### **Print the classification report and the confusion matrix for the test predictions. Write your observations on the final results.**"
      ]
    },
    {
      "cell_type": "code",
      "source": [
        "# Importing required functions for classificaation report and confusion matrix\n",
        "\n",
        "from sklearn.metrics import classification_report\n",
        "\n",
        "from sklearn.metrics import confusion_matrix\n",
        "\n",
        "# Printing the classification report\n",
        "print(classification_report(y_test, test_pred))\n",
        "\n",
        "# Creating and Printing Confusion Matrix\n",
        "cm = confusion_matrix(y_test, test_pred)\n",
        "\n",
        "plt.figure(figsize = (8, 5))\n",
        "\n",
        "sns.heatmap(cm, annot = True,  fmt = '.0f')\n",
        "\n",
        "plt.ylabel('Actual')\n",
        "\n",
        "plt.xlabel('Predicted')\n",
        "\n",
        "plt.show()\n"
      ],
      "metadata": {
        "id": "RWXL88Jm8ZDc",
        "colab": {
          "base_uri": "https://localhost:8080/",
          "height": 770
        },
        "outputId": "b3ca35d2-cfd1-4963-983d-40eaf166b9d0"
      },
      "execution_count": null,
      "outputs": [
        {
          "output_type": "stream",
          "name": "stdout",
          "text": [
            "              precision    recall  f1-score   support\n",
            "\n",
            "           0       0.86      0.70      0.77      1814\n",
            "           1       0.59      0.89      0.71      1828\n",
            "           2       0.76      0.77      0.76      1803\n",
            "           3       0.78      0.67      0.72      1719\n",
            "           4       0.73      0.85      0.79      1812\n",
            "           5       0.82      0.67      0.73      1768\n",
            "           6       0.76      0.72      0.74      1832\n",
            "           7       0.75      0.82      0.78      1808\n",
            "           8       0.71      0.71      0.71      1812\n",
            "           9       0.83      0.65      0.73      1804\n",
            "\n",
            "    accuracy                           0.74     18000\n",
            "   macro avg       0.76      0.74      0.74     18000\n",
            "weighted avg       0.76      0.74      0.74     18000\n",
            "\n"
          ]
        },
        {
          "output_type": "display_data",
          "data": {
            "text/plain": [
              "<Figure size 800x500 with 2 Axes>"
            ],
            "image/png": "[encoded data removed]"
          },
          "metadata": {}
        }
      ]
    },
    {
      "cell_type": "markdown",
      "metadata": {
        "id": "DjErl4GA2u9s"
      },
      "source": [
        "**Final Observations:__________**\n",
        "\n",
        "- Digits 3, 5, 9 have Recall rate of below 0.70, hence these were classified incorrectly the most. Overall, the recall rates are poor.\n",
        "\n",
        "- F1 score is also early to mid 0.70's for all.\n",
        "\n",
        "- In general, while the validation follows the training closely, the accuracy is not good."
      ]
    },
    {
      "cell_type": "markdown",
      "metadata": {
        "id": "xkR4JioMsuIV"
      },
      "source": [
        "## **Using Convolutional Neural Networks**"
      ]
    },
    {
      "cell_type": "markdown",
      "metadata": {
        "id": "YN2YgkGL_6xQ"
      },
      "source": [
        "### **Load the dataset again and split the data into the train and the test dataset.**"
      ]
    },
    {
      "cell_type": "code",
      "source": [
        "import h5py as h5fy\n",
        "h5f=h5fy.File('/content/drive/My Drive/MIT_IDSS/Elective project/SVHN_single_grey1.h5','r')"
      ],
      "metadata": {
        "id": "GvSMCTg2SFE_"
      },
      "execution_count": null,
      "outputs": []
    },
    {
      "cell_type": "code",
      "source": [
        "X_train = h5f['X_train'][:]\n",
        "y_train = h5f['y_train'][:]\n",
        "X_test = h5f['X_test'][:]\n",
        "y_test = h5f['y_test'][:]\n",
        "h5f.close()"
      ],
      "metadata": {
        "id": "-Q7-lp3mRyke"
      },
      "execution_count": null,
      "outputs": []
    },
    {
      "cell_type": "markdown",
      "metadata": {
        "id": "6fPqF_xGAjQB"
      },
      "source": [
        "Check the number of images in the training and the testing dataset."
      ]
    },
    {
      "cell_type": "code",
      "execution_count": null,
      "metadata": {
        "id": "gTLJZWjPAjQB",
        "colab": {
          "base_uri": "https://localhost:8080/"
        },
        "outputId": "9dd2e93c-c6de-44ae-e58c-503fc89e0fe1"
      },
      "outputs": [
        {
          "output_type": "execute_result",
          "data": {
            "text/plain": [
              "(42000, 18000)"
            ]
          },
          "metadata": {},
          "execution_count": 18
        }
      ],
      "source": [
        "len(X_train), len(X_test)"
      ]
    },
    {
      "cell_type": "markdown",
      "metadata": {
        "id": "9qyMiP_rAjQB"
      },
      "source": [
        "**Observation:** There are 42,000 training images and 18,000 test images.\n"
      ]
    },
    {
      "cell_type": "markdown",
      "metadata": {
        "id": "OJndFfEVAjQG"
      },
      "source": [
        "## **Data preparation**\n",
        "\n",
        "- Print the shape and the array of pixels for the first image in the training dataset.\n",
        "- Reshape the train and the test dataset because we always have to give a 4D array as input to CNNs.\n",
        "- Normalize the train and the test dataset by dividing by 255.\n",
        "- Print the new shapes of the train and the test dataset.\n",
        "- One-hot encode the target variable."
      ]
    },
    {
      "cell_type": "code",
      "execution_count": null,
      "metadata": {
        "id": "W4uXqKz1AjQG",
        "colab": {
          "base_uri": "https://localhost:8080/"
        },
        "outputId": "dc4874a7-7cf3-4613-8c97-10e5598ff468"
      },
      "outputs": [
        {
          "output_type": "stream",
          "name": "stdout",
          "text": [
            "Shape: (32, 32)\n",
            "\n",
            "First image:\n",
            " [[ 33.0704  30.2601  26.852  ...  71.4471  58.2204  42.9939]\n",
            " [ 25.2283  25.5533  29.9765 ... 113.0209 103.3639  84.2949]\n",
            " [ 26.2775  22.6137  40.4763 ... 113.3028 121.775  115.4228]\n",
            " ...\n",
            " [ 28.5502  36.212   45.0801 ...  24.1359  25.0927  26.0603]\n",
            " [ 38.4352  26.4733  23.2717 ...  28.1094  29.4683  30.0661]\n",
            " [ 50.2984  26.0773  24.0389 ...  49.6682  50.853   53.0377]]\n"
          ]
        }
      ],
      "source": [
        "# Shape and the array of pixels for the first image\n",
        "\n",
        "print(\"Shape:\", X_train[0].shape)\n",
        "\n",
        "print()\n",
        "\n",
        "print(\"First image:\\n\", X_train[0])"
      ]
    },
    {
      "cell_type": "markdown",
      "metadata": {
        "id": "at30iiX1__7F"
      },
      "source": [
        "Reshape the dataset to be able to pass them to CNNs. Remember that we always have to give a 4D array as input to CNNs"
      ]
    },
    {
      "cell_type": "code",
      "execution_count": null,
      "metadata": {
        "id": "D9YPwf9ysqWU"
      },
      "outputs": [],
      "source": [
        "# Reshaping the dataset to be able to pass them to CNNs. Give a 4D array as input to CNNs\n",
        "\n",
        "X_train = X_train.reshape(X_train.shape[0], 32, 32, 1)\n",
        "\n",
        "X_test = X_test.reshape(X_test.shape[0], 32, 32, 1)"
      ]
    },
    {
      "cell_type": "markdown",
      "metadata": {
        "id": "ODYnoLfaAEGx"
      },
      "source": [
        "Normalize inputs from 0-255 to 0-1"
      ]
    },
    {
      "cell_type": "code",
      "execution_count": null,
      "metadata": {
        "id": "eOGLAn40AjQG"
      },
      "outputs": [],
      "source": [
        "# Normalizing inputs from 0-255 to 0-1\n",
        "\n",
        "X_train = X_train / 255.0\n",
        "\n",
        "X_test = X_test / 255.0"
      ]
    },
    {
      "cell_type": "markdown",
      "metadata": {
        "id": "cS9T4HqjAoyM"
      },
      "source": [
        "Print New shape of Training and Test"
      ]
    },
    {
      "cell_type": "code",
      "execution_count": null,
      "metadata": {
        "id": "5qf8S5NQAjQG",
        "colab": {
          "base_uri": "https://localhost:8080/"
        },
        "outputId": "d130e0c2-bce3-4049-c713-35b39d3f1ef7"
      },
      "outputs": [
        {
          "output_type": "stream",
          "name": "stdout",
          "text": [
            "Training set: (42000, 32, 32, 1) (42000,)\n",
            "Test set: (18000, 32, 32, 1) (18000,)\n"
          ]
        }
      ],
      "source": [
        "# Printing new shape of training and test data\n",
        "print('Training set:', X_train.shape, y_train.shape)\n",
        "\n",
        "print('Test set:', X_test.shape, y_test.shape)"
      ]
    },
    {
      "cell_type": "markdown",
      "metadata": {
        "id": "10QaOV-xR7Jn"
      },
      "source": [
        "### **One-hot encode the labels in the target variable y_train and y_test.**"
      ]
    },
    {
      "cell_type": "code",
      "execution_count": null,
      "metadata": {
        "id": "3KHWFWKMAjQH",
        "colab": {
          "base_uri": "https://localhost:8080/"
        },
        "outputId": "2c2c8b8b-18f6-4389-d133-7adb0e31ffc8"
      },
      "outputs": [
        {
          "output_type": "execute_result",
          "data": {
            "text/plain": [
              "array([[0., 1., 0., ..., 0., 0., 0.],\n",
              "       [0., 0., 0., ..., 1., 0., 0.],\n",
              "       [0., 0., 1., ..., 0., 0., 0.],\n",
              "       ...,\n",
              "       [0., 0., 0., ..., 1., 0., 0.],\n",
              "       [0., 0., 0., ..., 0., 0., 1.],\n",
              "       [0., 0., 1., ..., 0., 0., 0.]], dtype=float32)"
            ]
          },
          "metadata": {},
          "execution_count": 23
        }
      ],
      "source": [
        "# One-hot encoding of target variables\n",
        "y_train = to_categorical(y_train)\n",
        "\n",
        "y_test= to_categorical(y_test)\n",
        "\n",
        "#Labels..\n",
        "y_test"
      ]
    },
    {
      "cell_type": "markdown",
      "metadata": {
        "id": "H-8jYVQTAjQH"
      },
      "source": [
        "**Observation:**\n",
        "-\n",
        "Each entry of the target variable is a one-hot encoded vector instead of a single label.\n"
      ]
    },
    {
      "cell_type": "markdown",
      "metadata": {
        "id": "Vjx_LI4_AjQH"
      },
      "source": [
        "## **Model Building**\n",
        "\n",
        "Now that we have done data preprocessing, let's build a CNN model.\n",
        "Fix the seed for random number generators"
      ]
    },
    {
      "cell_type": "code",
      "execution_count": null,
      "metadata": {
        "id": "ZY5pyF4-KDNt"
      },
      "outputs": [],
      "source": [
        "# The seed for random number generators\n",
        "\n",
        "np.random.seed(42)\n",
        "\n",
        "import random\n",
        "\n",
        "random.seed(42)\n",
        "\n",
        "tf.random.set_seed(42)"
      ]
    },
    {
      "cell_type": "markdown",
      "metadata": {
        "id": "1JUAczhzAjQH"
      },
      "source": [
        "### **Model Architecture**\n",
        "- **Write a function** that returns a sequential model with the following architecture:\n",
        " - First Convolutional layer with **16 filters and the kernel size of 3x3**. Use the **'same' padding** and provide the **input shape = (32, 32, 1)**\n",
        " - Add a **LeakyRelu layer** with the **slope equal to 0.1**\n",
        " - Second Convolutional layer with **32 filters and the kernel size of 3x3 with 'same' padding**\n",
        " - Another **LeakyRelu** with the **slope equal to 0.1**\n",
        " - A **max-pooling layer** with a **pool size of 2x2**\n",
        " - **Flatten** the output from the previous layer\n",
        " - Add a **dense layer with 32 nodes**\n",
        " - Add a **LeakyRelu layer with the slope equal to 0.1**\n",
        " - Add the final **output layer with nodes equal to the number of classes, i.e., 10** and **'softmax' as the activation function**\n",
        " - Compile the model with the **loss equal to categorical_crossentropy, optimizer equal to Adam(learning_rate = 0.001), and metric equal to 'accuracy'**. Do not fit the model here, just return the compiled model.\n",
        "- Call the function cnn_model_1 and store the output in a new variable.\n",
        "- Print the summary of the model.\n",
        "- Fit the model on the training data with a **validation split of 0.2, batch size = 32, verbose = 1, and epochs = 20**. Store the model building history to use later for visualization."
      ]
    },
    {
      "cell_type": "markdown",
      "metadata": {
        "id": "JWsAd45JKDNu"
      },
      "source": [
        "### **Build and train a CNN model as per the above mentioned architecture.**"
      ]
    },
    {
      "cell_type": "markdown",
      "source": [
        "1. Building the Model"
      ],
      "metadata": {
        "id": "QkFQppVLWCgj"
      }
    },
    {
      "cell_type": "code",
      "source": [
        "from keras.layers import Dense, LeakyReLU"
      ],
      "metadata": {
        "id": "c4kkmHmZcSXj"
      },
      "execution_count": null,
      "outputs": []
    },
    {
      "cell_type": "code",
      "execution_count": null,
      "metadata": {
        "id": "L1jOYANWAjQH"
      },
      "outputs": [],
      "source": [
        "# Intializing a sequential model\n",
        "def cnn_model_1():\n",
        "  model = Sequential()\n",
        "\n",
        "# Adding first conv layer with 16 filters and kernel size 3x3 , padding 'same' provides the output size same as the input size\n",
        "# Input_shape denotes input image dimension of the data\n",
        "  model.add(Conv2D(16, (3, 3), padding=\"same\", input_shape=(32, 32, 1)))\n",
        "\n",
        "# Adding a Leaky Relu layer with slope = 0.1\n",
        "  model.add(LeakyReLU(alpha=0.1))\n",
        "\n",
        "# Adding second conv layer with 32 filters and kernel size 3x3\n",
        "  model.add(Conv2D(32, (3, 3), padding=\"same\", input_shape=(32, 32, 1)))\n",
        "\n",
        "# Adding a Leaky Relu layer with slope = 0.1\n",
        "  model.add(LeakyReLU(alpha=0.1))\n",
        "\n",
        "# Adding max pooling to reduce the size of output of first conv layer\n",
        "  model.add(MaxPooling2D((2, 2), padding = 'same'))\n",
        "\n",
        "# flattening the output of the conv layer after max pooling to make it ready for creating dense connections\n",
        "  model.add(Flatten())\n",
        "\n",
        "# Adding a fully connected dense layer with 32 neurons\n",
        "  model.add(Dense(32))\n",
        "\n",
        "# Adding a Leaky Relu layer with slope = 0.1\n",
        "  model.add(LeakyReLU(alpha=0.1))\n",
        "\n",
        "# Adding the output layer with 10 neurons and activation functions as softmax since this is a multi-class classification problem\n",
        "  model.add(Dense(10, activation='softmax'))\n",
        "\n",
        "# Using SGD Optimizer\n",
        "  opt = Adam(learning_rate=0.001)\n",
        "\n",
        "# Compile model\n",
        "  model.compile(optimizer=opt, loss='categorical_crossentropy', metrics=['accuracy'])\n",
        "\n",
        "  return(model)"
      ]
    },
    {
      "cell_type": "code",
      "source": [
        "# Building the model\n",
        "cnn_model_1= cnn_model_1()"
      ],
      "metadata": {
        "id": "eguG3FWCbVEH"
      },
      "execution_count": null,
      "outputs": []
    },
    {
      "cell_type": "code",
      "source": [
        "# Summary of the Model\n",
        "cnn_model_1.summary()"
      ],
      "metadata": {
        "colab": {
          "base_uri": "https://localhost:8080/"
        },
        "id": "Kho-FzQ_ceJd",
        "outputId": "a430d32f-8908-4183-a18a-97b52acdce14"
      },
      "execution_count": null,
      "outputs": [
        {
          "output_type": "stream",
          "name": "stdout",
          "text": [
            "Model: \"sequential_5\"\n",
            "_________________________________________________________________\n",
            " Layer (type)                Output Shape              Param #   \n",
            "=================================================================\n",
            " conv2d_5 (Conv2D)           (None, 32, 32, 16)        160       \n",
            "                                                                 \n",
            " leaky_re_lu_3 (LeakyReLU)   (None, 32, 32, 16)        0         \n",
            "                                                                 \n",
            " conv2d_6 (Conv2D)           (None, 32, 32, 32)        4640      \n",
            "                                                                 \n",
            " leaky_re_lu_4 (LeakyReLU)   (None, 32, 32, 32)        0         \n",
            "                                                                 \n",
            " max_pooling2d_1 (MaxPoolin  (None, 16, 16, 32)        0         \n",
            " g2D)                                                            \n",
            "                                                                 \n",
            " flatten_1 (Flatten)         (None, 8192)              0         \n",
            "                                                                 \n",
            " dense_8 (Dense)             (None, 32)                262176    \n",
            "                                                                 \n",
            " leaky_re_lu_5 (LeakyReLU)   (None, 32)                0         \n",
            "                                                                 \n",
            " dense_9 (Dense)             (None, 10)                330       \n",
            "                                                                 \n",
            "=================================================================\n",
            "Total params: 267306 (1.02 MB)\n",
            "Trainable params: 267306 (1.02 MB)\n",
            "Non-trainable params: 0 (0.00 Byte)\n",
            "_________________________________________________________________\n"
          ]
        }
      ]
    },
    {
      "cell_type": "code",
      "source": [
        "# Fit the Model and save it as history\n",
        "\n",
        "history_cnn_model_1 = cnn_model_1.fit(X_train,\n",
        "                            y_train,\n",
        "                            validation_split=0.2,\n",
        "                            batch_size=32,\n",
        "                            epochs = 20,\n",
        "                            verbose = 1)"
      ],
      "metadata": {
        "colab": {
          "base_uri": "https://localhost:8080/"
        },
        "id": "JPw86eUQc95m",
        "outputId": "1c377ba4-895d-467f-8af6-4cad1251d049"
      },
      "execution_count": null,
      "outputs": [
        {
          "output_type": "stream",
          "name": "stdout",
          "text": [
            "Epoch 1/20\n",
            "1050/1050 [==============================] - 70s 66ms/step - loss: 1.1751 - accuracy: 0.6097 - val_loss: 0.6261 - val_accuracy: 0.8239\n",
            "Epoch 2/20\n",
            "1050/1050 [==============================] - 71s 68ms/step - loss: 0.5385 - accuracy: 0.8467 - val_loss: 0.4990 - val_accuracy: 0.8581\n",
            "Epoch 3/20\n",
            "1050/1050 [==============================] - 76s 72ms/step - loss: 0.4438 - accuracy: 0.8701 - val_loss: 0.4959 - val_accuracy: 0.8604\n",
            "Epoch 4/20\n",
            "1050/1050 [==============================] - 76s 72ms/step - loss: 0.3857 - accuracy: 0.8854 - val_loss: 0.4453 - val_accuracy: 0.8746\n",
            "Epoch 5/20\n",
            "1050/1050 [==============================] - 76s 72ms/step - loss: 0.3397 - accuracy: 0.8982 - val_loss: 0.4646 - val_accuracy: 0.8707\n",
            "Epoch 6/20\n",
            "1050/1050 [==============================] - 71s 68ms/step - loss: 0.2998 - accuracy: 0.9099 - val_loss: 0.4608 - val_accuracy: 0.8733\n",
            "Epoch 7/20\n",
            "1050/1050 [==============================] - 69s 66ms/step - loss: 0.2687 - accuracy: 0.9178 - val_loss: 0.4395 - val_accuracy: 0.8830\n",
            "Epoch 8/20\n",
            "1050/1050 [==============================] - 71s 68ms/step - loss: 0.2394 - accuracy: 0.9270 - val_loss: 0.4691 - val_accuracy: 0.8779\n",
            "Epoch 9/20\n",
            "1050/1050 [==============================] - 71s 68ms/step - loss: 0.2147 - accuracy: 0.9333 - val_loss: 0.4829 - val_accuracy: 0.8754\n",
            "Epoch 10/20\n",
            "1050/1050 [==============================] - 71s 67ms/step - loss: 0.1942 - accuracy: 0.9414 - val_loss: 0.4882 - val_accuracy: 0.8820\n",
            "Epoch 11/20\n",
            "1050/1050 [==============================] - 73s 69ms/step - loss: 0.1706 - accuracy: 0.9482 - val_loss: 0.5560 - val_accuracy: 0.8654\n",
            "Epoch 12/20\n",
            "1050/1050 [==============================] - 71s 68ms/step - loss: 0.1563 - accuracy: 0.9517 - val_loss: 0.5637 - val_accuracy: 0.8760\n",
            "Epoch 13/20\n",
            "1050/1050 [==============================] - 70s 67ms/step - loss: 0.1398 - accuracy: 0.9562 - val_loss: 0.5878 - val_accuracy: 0.8755\n",
            "Epoch 14/20\n",
            "1050/1050 [==============================] - 72s 68ms/step - loss: 0.1260 - accuracy: 0.9615 - val_loss: 0.6245 - val_accuracy: 0.8713\n",
            "Epoch 15/20\n",
            "1050/1050 [==============================] - 71s 68ms/step - loss: 0.1174 - accuracy: 0.9630 - val_loss: 0.5995 - val_accuracy: 0.8768\n",
            "Epoch 16/20\n",
            "1050/1050 [==============================] - 72s 68ms/step - loss: 0.1008 - accuracy: 0.9679 - val_loss: 0.6767 - val_accuracy: 0.8686\n",
            "Epoch 17/20\n",
            "1050/1050 [==============================] - 73s 70ms/step - loss: 0.0919 - accuracy: 0.9700 - val_loss: 0.6790 - val_accuracy: 0.8739\n",
            "Epoch 18/20\n",
            "1050/1050 [==============================] - 72s 69ms/step - loss: 0.0839 - accuracy: 0.9738 - val_loss: 0.7737 - val_accuracy: 0.8695\n",
            "Epoch 19/20\n",
            "1050/1050 [==============================] - 71s 68ms/step - loss: 0.0870 - accuracy: 0.9723 - val_loss: 0.7652 - val_accuracy: 0.8694\n",
            "Epoch 20/20\n",
            "1050/1050 [==============================] - 72s 69ms/step - loss: 0.0729 - accuracy: 0.9762 - val_loss: 0.8074 - val_accuracy: 0.8719\n"
          ]
        }
      ]
    },
    {
      "cell_type": "markdown",
      "metadata": {
        "id": "JPzfIf9kKDNw"
      },
      "source": [
        "### **Plot the Training and Validation Accuracies and Write your observations.**"
      ]
    },
    {
      "cell_type": "code",
      "execution_count": null,
      "metadata": {
        "id": "07oUCr1kAjQH",
        "colab": {
          "base_uri": "https://localhost:8080/",
          "height": 465
        },
        "outputId": "4fac8e5e-89ae-467b-a86e-8d51f0e88473"
      },
      "outputs": [
        {
          "output_type": "display_data",
          "data": {
            "text/plain": [
              "<Figure size 600x500 with 1 Axes>"
            ],
            "image/png": "[encoded data removed]"
          },
          "metadata": {}
        }
      ],
      "source": [
        "# Plotting the accuracies\n",
        "\n",
        "dict_hist = history_cnn_model_1.history\n",
        "\n",
        "list_ep = [i for i in range(1, 21)]\n",
        "\n",
        "plt.figure(figsize = (6, 5))\n",
        "\n",
        "plt.plot(list_ep, dict_hist['accuracy'], ls = '--', label = 'accuracy')\n",
        "\n",
        "plt.plot(list_ep, dict_hist['val_accuracy'], ls = '--', label = 'val_accuracy')\n",
        "\n",
        "plt.ylabel('Accuracy')\n",
        "\n",
        "plt.xlabel('Epochs')\n",
        "\n",
        "plt.legend()\n",
        "\n",
        "plt.show()"
      ]
    },
    {
      "cell_type": "markdown",
      "metadata": {
        "id": "P6zTLyp9AjQH"
      },
      "source": [
        "**Observations:__________**\n",
        "- The training accuracy is very good getting close to 95% but the validation accuracy is plateauing at 85%\n",
        "- This indicates that the model is not generalizing as well after the training.\n",
        "- Overall this model is still much better than both ANNs."
      ]
    },
    {
      "cell_type": "markdown",
      "metadata": {
        "id": "Ukvtg2eMAjQH"
      },
      "source": [
        "Let's build another model and see if we can get a better model with generalized performance.\n",
        "\n",
        "First, we need to clear the previous model's history from the Keras backend. Also, let's fix the seed again after clearing the backend."
      ]
    },
    {
      "cell_type": "code",
      "execution_count": null,
      "metadata": {
        "id": "HbKi93HTolGW"
      },
      "outputs": [],
      "source": [
        "# Clearing backend\n",
        "from tensorflow.keras import backend\n",
        "backend.clear_session()"
      ]
    },
    {
      "cell_type": "code",
      "source": [
        "# Fixing the seed for random number generators\n",
        "\n",
        "np.random.seed(42)\n",
        "\n",
        "import random\n",
        "\n",
        "random.seed(42)\n",
        "\n",
        "tf.random.set_seed(42)"
      ],
      "metadata": {
        "id": "1VIIyivUvan9"
      },
      "execution_count": null,
      "outputs": []
    },
    {
      "cell_type": "markdown",
      "metadata": {
        "id": "Ep19Jd8HAjQH"
      },
      "source": [
        "### **Second Model Architecture**\n",
        "\n",
        "- Write a function that returns a sequential model with the following architecture:\n",
        " - First Convolutional layer with **16 filters and the kernel size of 3x3**. Use the **'same' padding** and provide the **input shape = (32, 32, 1)**\n",
        " - Add a **LeakyRelu layer** with the **slope equal to 0.1**\n",
        " - Second Convolutional layer with **32 filters and the kernel size of 3x3 with 'same' padding**\n",
        " - Add **LeakyRelu** with the **slope equal to 0.1**\n",
        " - Add a **max-pooling layer** with a **pool size of 2x2**\n",
        " - Add a **BatchNormalization layer**\n",
        " - Third Convolutional layer with **32 filters and the kernel size of 3x3 with 'same' padding**\n",
        " - Add a **LeakyRelu layer with the slope equal to 0.1**\n",
        " - Fourth Convolutional layer **64 filters and the kernel size of 3x3 with 'same' padding**\n",
        " - Add a **LeakyRelu layer with the slope equal to 0.1**\n",
        " - Add a **max-pooling layer** with a **pool size of 2x2**\n",
        " - Add a **BatchNormalization layer**\n",
        " - **Flatten** the output from the previous layer\n",
        " - Add a **dense layer with 32 nodes**\n",
        " - Add a **LeakyRelu layer with the slope equal to 0.1**\n",
        " - Add a **dropout layer with the rate equal to 0.5**\n",
        " - Add the final **output layer with nodes equal to the number of classes, i.e., 10** and **'softmax' as the activation function**\n",
        " - Compile the model with the **categorical_crossentropy loss, adam optimizers (learning_rate = 0.001), and metric equal to 'accuracy'**. Do not fit the model here, just return the compiled model.\n",
        "- Call the function cnn_model_2 and store the model in a new variable.\n",
        "- Print the summary of the model.\n",
        "- Fit the model on the train data with a **validation split of 0.2, batch size = 128, verbose = 1, and epochs = 30**. Store the model building history to use later for visualization."
      ]
    },
    {
      "cell_type": "markdown",
      "metadata": {
        "id": "y5IBLS1eKDNy"
      },
      "source": [
        "### **Build and train the second CNN model as per the above mentioned architecture.**"
      ]
    },
    {
      "cell_type": "code",
      "execution_count": null,
      "metadata": {
        "id": "wk9sl2UEAjQH"
      },
      "outputs": [],
      "source": [
        "from keras.layers import Dense, LeakyReLU"
      ]
    },
    {
      "cell_type": "code",
      "source": [
        "# Intializing a sequential model\n",
        "def cnn_model_2():\n",
        "  model = Sequential()\n",
        "\n",
        "# Adding first conv layer with 16 filters and kernel size 3x3 , padding 'same' provides the output size same as the input size\n",
        "# Input_shape denotes input image dimension of the data\n",
        "  model.add(Conv2D(16, (3, 3), padding=\"same\", input_shape=(32, 32, 1)))\n",
        "\n",
        "# Adding a Leaky Relu layer with slope = 0.1\n",
        "  model.add(LeakyReLU(alpha=0.1))\n",
        "\n",
        "# Adding second conv layer with 32 filters and kernel size 3x3\n",
        "  model.add(Conv2D(32, (3, 3), padding=\"same\", input_shape=(32, 32, 1)))\n",
        "\n",
        "# Adding a Leaky Relu layer with slope = 0.1\n",
        "  model.add(LeakyReLU(alpha=0.1))\n",
        "\n",
        "# Adding max pooling to reduce the size of output of first conv layer\n",
        "  model.add(MaxPooling2D((2, 2), padding = 'same'))\n",
        "\n",
        "# Adding Batch Normalization layer\n",
        "  model.add(BatchNormalization())\n",
        "\n",
        "# Third Convolutional Layer of 32 nodes\n",
        "  model.add(Conv2D(32, (3, 3), padding=\"same\", input_shape=(32, 32, 1)))\n",
        "# Adding a Leaky Relu layer with slope = 0.1\n",
        "  model.add(LeakyReLU(alpha=0.1))\n",
        "\n",
        "# Adding fourth conv layer with 64 filters and kernel size 3x3\n",
        "  model.add(Conv2D(64, (3, 3), padding=\"same\", input_shape=(32, 32, 1)))\n",
        "\n",
        "# Adding a Leaky Relu layer with slope = 0.1\n",
        "  model.add(LeakyReLU(alpha=0.1))\n",
        "\n",
        "# Adding max pooling to reduce the size of output of first conv layer\n",
        "  model.add(MaxPooling2D((2, 2), padding = 'same'))\n",
        "\n",
        "# Adding Batch Normalization layer\n",
        "  model.add(BatchNormalization())\n",
        "\n",
        "\n",
        "# flattening the output of the conv layer after max pooling to make it ready for creating dense connections\n",
        "  model.add(Flatten())\n",
        "\n",
        "# Adding a fully connected dense layer with 32 neurons\n",
        "  model.add(Dense(32))\n",
        "\n",
        "# Adding a Leaky Relu layer with slope = 0.1\n",
        "  model.add(LeakyReLU(alpha=0.1))\n",
        "\n",
        "# Adding a Dropout layer\n",
        "  model.add(Dropout(0.5))\n",
        "\n",
        "# Adding the output layer with 10 neurons and activation functions as softmax since this is a multi-class classification problem\n",
        "  model.add(Dense(10, activation='softmax'))\n",
        "\n",
        "# Using SGD Optimizer\n",
        "  opt = Adam(learning_rate=0.001)\n",
        "\n",
        "# Compile model\n",
        "  model.compile(optimizer=opt, loss='categorical_crossentropy', metrics=['accuracy'])\n",
        "\n",
        "  return(model)"
      ],
      "metadata": {
        "id": "fxGWTADRvpgg"
      },
      "execution_count": null,
      "outputs": []
    },
    {
      "cell_type": "code",
      "source": [
        "# Building the model\n",
        "cnn_model_2= cnn_model_2()"
      ],
      "metadata": {
        "id": "TvXkZwxaw827"
      },
      "execution_count": null,
      "outputs": []
    },
    {
      "cell_type": "code",
      "source": [
        "# Summary of the Model\n",
        "cnn_model_2.summary()"
      ],
      "metadata": {
        "colab": {
          "base_uri": "https://localhost:8080/"
        },
        "id": "8Tx5pC0-xFHX",
        "outputId": "fc81bd72-4028-46a8-993f-6e4ddbdd2450"
      },
      "execution_count": null,
      "outputs": [
        {
          "output_type": "stream",
          "name": "stdout",
          "text": [
            "Model: \"sequential\"\n",
            "_________________________________________________________________\n",
            " Layer (type)                Output Shape              Param #   \n",
            "=================================================================\n",
            " conv2d (Conv2D)             (None, 32, 32, 16)        160       \n",
            "                                                                 \n",
            " leaky_re_lu (LeakyReLU)     (None, 32, 32, 16)        0         \n",
            "                                                                 \n",
            " conv2d_1 (Conv2D)           (None, 32, 32, 32)        4640      \n",
            "                                                                 \n",
            " leaky_re_lu_1 (LeakyReLU)   (None, 32, 32, 32)        0         \n",
            "                                                                 \n",
            " max_pooling2d (MaxPooling2  (None, 16, 16, 32)        0         \n",
            " D)                                                              \n",
            "                                                                 \n",
            " batch_normalization (Batch  (None, 16, 16, 32)        128       \n",
            " Normalization)                                                  \n",
            "                                                                 \n",
            " conv2d_2 (Conv2D)           (None, 16, 16, 32)        9248      \n",
            "                                                                 \n",
            " leaky_re_lu_2 (LeakyReLU)   (None, 16, 16, 32)        0         \n",
            "                                                                 \n",
            " conv2d_3 (Conv2D)           (None, 16, 16, 64)        18496     \n",
            "                                                                 \n",
            " leaky_re_lu_3 (LeakyReLU)   (None, 16, 16, 64)        0         \n",
            "                                                                 \n",
            " max_pooling2d_1 (MaxPoolin  (None, 8, 8, 64)          0         \n",
            " g2D)                                                            \n",
            "                                                                 \n",
            " batch_normalization_1 (Bat  (None, 8, 8, 64)          256       \n",
            " chNormalization)                                                \n",
            "                                                                 \n",
            " flatten (Flatten)           (None, 4096)              0         \n",
            "                                                                 \n",
            " dense (Dense)               (None, 32)                131104    \n",
            "                                                                 \n",
            " leaky_re_lu_4 (LeakyReLU)   (None, 32)                0         \n",
            "                                                                 \n",
            " dropout (Dropout)           (None, 32)                0         \n",
            "                                                                 \n",
            " dense_1 (Dense)             (None, 10)                330       \n",
            "                                                                 \n",
            "=================================================================\n",
            "Total params: 164362 (642.04 KB)\n",
            "Trainable params: 164170 (641.29 KB)\n",
            "Non-trainable params: 192 (768.00 Byte)\n",
            "_________________________________________________________________\n"
          ]
        }
      ]
    },
    {
      "cell_type": "code",
      "source": [
        "# Fit the Model and save it as history\n",
        "\n",
        "history_cnn_model_2 = cnn_model_2.fit(X_train,\n",
        "                            y_train,\n",
        "                            validation_split=0.2,\n",
        "                            batch_size=128,\n",
        "                            epochs = 30,\n",
        "                            verbose = 1)"
      ],
      "metadata": {
        "colab": {
          "base_uri": "https://localhost:8080/"
        },
        "id": "7gKwWx4gxRvb",
        "outputId": "701bcae3-76f2-4d74-a956-27b0de6f4d68"
      },
      "execution_count": null,
      "outputs": [
        {
          "output_type": "stream",
          "name": "stdout",
          "text": [
            "Epoch 1/30\n",
            "263/263 [==============================] - 15s 12ms/step - loss: 1.3271 - accuracy: 0.5472 - val_loss: 1.8175 - val_accuracy: 0.3939\n",
            "Epoch 2/30\n",
            "263/263 [==============================] - 3s 10ms/step - loss: 0.6652 - accuracy: 0.7934 - val_loss: 0.5404 - val_accuracy: 0.8494\n",
            "Epoch 3/30\n",
            "263/263 [==============================] - 3s 10ms/step - loss: 0.5517 - accuracy: 0.8327 - val_loss: 0.4248 - val_accuracy: 0.8800\n",
            "Epoch 4/30\n",
            "263/263 [==============================] - 3s 10ms/step - loss: 0.4888 - accuracy: 0.8514 - val_loss: 0.4181 - val_accuracy: 0.8823\n",
            "Epoch 5/30\n",
            "263/263 [==============================] - 3s 11ms/step - loss: 0.4447 - accuracy: 0.8622 - val_loss: 0.4108 - val_accuracy: 0.8817\n",
            "Epoch 6/30\n",
            "263/263 [==============================] - 2s 9ms/step - loss: 0.4058 - accuracy: 0.8737 - val_loss: 0.3825 - val_accuracy: 0.8865\n",
            "Epoch 7/30\n",
            "263/263 [==============================] - 2s 9ms/step - loss: 0.3817 - accuracy: 0.8821 - val_loss: 0.3972 - val_accuracy: 0.8920\n",
            "Epoch 8/30\n",
            "263/263 [==============================] - 2s 9ms/step - loss: 0.3445 - accuracy: 0.8923 - val_loss: 0.3561 - val_accuracy: 0.9029\n",
            "Epoch 9/30\n",
            "263/263 [==============================] - 2s 9ms/step - loss: 0.3244 - accuracy: 0.8989 - val_loss: 0.3483 - val_accuracy: 0.9044\n",
            "Epoch 10/30\n",
            "263/263 [==============================] - 3s 12ms/step - loss: 0.3118 - accuracy: 0.9024 - val_loss: 0.3543 - val_accuracy: 0.9063\n",
            "Epoch 11/30\n",
            "263/263 [==============================] - 3s 10ms/step - loss: 0.2929 - accuracy: 0.9082 - val_loss: 0.3958 - val_accuracy: 0.8894\n",
            "Epoch 12/30\n",
            "263/263 [==============================] - 3s 10ms/step - loss: 0.2822 - accuracy: 0.9103 - val_loss: 0.3996 - val_accuracy: 0.9090\n",
            "Epoch 13/30\n",
            "263/263 [==============================] - 2s 9ms/step - loss: 0.2655 - accuracy: 0.9146 - val_loss: 0.4377 - val_accuracy: 0.8723\n",
            "Epoch 14/30\n",
            "263/263 [==============================] - 2s 9ms/step - loss: 0.2573 - accuracy: 0.9161 - val_loss: 0.3763 - val_accuracy: 0.9014\n",
            "Epoch 15/30\n",
            "263/263 [==============================] - 3s 10ms/step - loss: 0.2454 - accuracy: 0.9211 - val_loss: 0.3486 - val_accuracy: 0.9104\n",
            "Epoch 16/30\n",
            "263/263 [==============================] - 3s 11ms/step - loss: 0.2296 - accuracy: 0.9255 - val_loss: 0.3660 - val_accuracy: 0.9110\n",
            "Epoch 17/30\n",
            "263/263 [==============================] - 2s 9ms/step - loss: 0.2269 - accuracy: 0.9276 - val_loss: 0.3958 - val_accuracy: 0.9063\n",
            "Epoch 18/30\n",
            "263/263 [==============================] - 2s 9ms/step - loss: 0.2162 - accuracy: 0.9293 - val_loss: 0.3674 - val_accuracy: 0.9124\n",
            "Epoch 19/30\n",
            "263/263 [==============================] - 3s 10ms/step - loss: 0.2081 - accuracy: 0.9326 - val_loss: 0.3964 - val_accuracy: 0.9126\n",
            "Epoch 20/30\n",
            "263/263 [==============================] - 3s 11ms/step - loss: 0.2051 - accuracy: 0.9342 - val_loss: 0.4191 - val_accuracy: 0.9027\n",
            "Epoch 21/30\n",
            "263/263 [==============================] - 3s 11ms/step - loss: 0.1918 - accuracy: 0.9364 - val_loss: 0.3996 - val_accuracy: 0.9085\n",
            "Epoch 22/30\n",
            "263/263 [==============================] - 2s 9ms/step - loss: 0.1837 - accuracy: 0.9385 - val_loss: 0.3876 - val_accuracy: 0.9118\n",
            "Epoch 23/30\n",
            "263/263 [==============================] - 2s 9ms/step - loss: 0.1845 - accuracy: 0.9393 - val_loss: 0.3974 - val_accuracy: 0.9082\n",
            "Epoch 24/30\n",
            "263/263 [==============================] - 3s 10ms/step - loss: 0.1791 - accuracy: 0.9397 - val_loss: 0.4127 - val_accuracy: 0.9082\n",
            "Epoch 25/30\n",
            "263/263 [==============================] - 3s 11ms/step - loss: 0.1663 - accuracy: 0.9446 - val_loss: 0.4225 - val_accuracy: 0.9119\n",
            "Epoch 26/30\n",
            "263/263 [==============================] - 3s 11ms/step - loss: 0.1660 - accuracy: 0.9453 - val_loss: 0.4017 - val_accuracy: 0.9044\n",
            "Epoch 27/30\n",
            "263/263 [==============================] - 3s 10ms/step - loss: 0.1673 - accuracy: 0.9457 - val_loss: 0.4150 - val_accuracy: 0.9070\n",
            "Epoch 28/30\n",
            "263/263 [==============================] - 2s 9ms/step - loss: 0.1590 - accuracy: 0.9462 - val_loss: 0.4311 - val_accuracy: 0.8968\n",
            "Epoch 29/30\n",
            "263/263 [==============================] - 2s 9ms/step - loss: 0.1515 - accuracy: 0.9506 - val_loss: 0.4375 - val_accuracy: 0.9096\n",
            "Epoch 30/30\n",
            "263/263 [==============================] - 2s 9ms/step - loss: 0.1498 - accuracy: 0.9499 - val_loss: 0.4078 - val_accuracy: 0.9154\n"
          ]
        }
      ]
    },
    {
      "cell_type": "markdown",
      "metadata": {
        "id": "PyhUtMy3KDN1"
      },
      "source": [
        "### **Plot the Training and Validation accuracies and write your observations.**"
      ]
    },
    {
      "cell_type": "code",
      "execution_count": null,
      "metadata": {
        "id": "YVQu7uWiAjQH",
        "colab": {
          "base_uri": "https://localhost:8080/",
          "height": 388
        },
        "outputId": "9337b55b-20fe-44de-f131-87f6927111e2"
      },
      "outputs": [
        {
          "output_type": "display_data",
          "data": {
            "text/plain": [
              "<Figure size 600x400 with 1 Axes>"
            ],
            "image/png": "[encoded data removed]"
          },
          "metadata": {}
        }
      ],
      "source": [
        "# Plotting the training and validation accuracies\n",
        "\n",
        "dict_hist = history_cnn_model_2.history\n",
        "\n",
        "list_ep = [i for i in range(1, 31)]\n",
        "\n",
        "plt.figure(figsize = (6, 4))\n",
        "\n",
        "plt.plot(list_ep, dict_hist['accuracy'], ls = '--', label = 'accuracy')\n",
        "\n",
        "plt.plot(list_ep, dict_hist['val_accuracy'], ls = '--', label = 'val_accuracy')\n",
        "\n",
        "plt.ylabel('Accuracy')\n",
        "\n",
        "plt.xlabel('Epochs')\n",
        "\n",
        "plt.legend()\n",
        "\n",
        "plt.show()"
      ]
    },
    {
      "cell_type": "markdown",
      "metadata": {
        "id": "Qrrt0Ac3AjQH"
      },
      "source": [
        "**Observations:________**\n",
        "\n",
        "- So far this is the best model with training accuracy of 95% and validation accuracy of ~92%.\n",
        "- Training and validation accuracy also follow each other closely signifying a reasonably good generalization for the model."
      ]
    },
    {
      "cell_type": "markdown",
      "metadata": {
        "id": "kja4SnOdAjQI"
      },
      "source": [
        "## **Predictions on the test data**\n",
        "\n",
        "- Make predictions on the test set using the second model.\n",
        "- Print the obtained results using the classification report and the confusion matrix.\n",
        "- Final observations on the obtained results."
      ]
    },
    {
      "cell_type": "markdown",
      "metadata": {
        "id": "eHCRwRbgKDN2"
      },
      "source": [
        "### **Make predictions on the test data using the second model.**"
      ]
    },
    {
      "cell_type": "code",
      "execution_count": null,
      "metadata": {
        "id": "f1d-VvaLAjQI",
        "colab": {
          "base_uri": "https://localhost:8080/"
        },
        "outputId": "0ebda074-3ab9-4877-91ec-5815e70594b9"
      },
      "outputs": [
        {
          "output_type": "stream",
          "name": "stdout",
          "text": [
            "563/563 [==============================] - 2s 2ms/step\n"
          ]
        }
      ],
      "source": [
        "# Make prediction on the test data using model_2\n",
        "\n",
        "test_pred = cnn_model_2.predict(X_test)\n",
        "\n",
        "test_pred = np.argmax(test_pred, axis = -1)"
      ]
    },
    {
      "cell_type": "markdown",
      "metadata": {
        "id": "DrV1tOG0AjQI"
      },
      "source": [
        "**Note:** Earlier, we noticed that each entry of the target variable is a one-hot encoded vector, but to print the classification report and confusion matrix, we must convert each entry of y_test to a single label."
      ]
    },
    {
      "cell_type": "code",
      "execution_count": null,
      "metadata": {
        "id": "dUSHU9W0AjQI"
      },
      "outputs": [],
      "source": [
        "# Converting each entry to single label from one-hot encoded vector\n",
        "\n",
        "y_test = np.argmax(y_test, axis = -1)"
      ]
    },
    {
      "cell_type": "markdown",
      "metadata": {
        "id": "aVCa-ysWKDN3"
      },
      "source": [
        "### **Write your final observations on the performance of the model on the test data.**"
      ]
    },
    {
      "cell_type": "code",
      "execution_count": null,
      "metadata": {
        "id": "sOMq2rCJAjQJ",
        "colab": {
          "base_uri": "https://localhost:8080/",
          "height": 769
        },
        "outputId": "f8483378-9fdb-4bca-c652-6d80118a0253"
      },
      "outputs": [
        {
          "output_type": "stream",
          "name": "stdout",
          "text": [
            "              precision    recall  f1-score   support\n",
            "\n",
            "           0       0.92      0.94      0.93      1814\n",
            "           1       0.92      0.90      0.91      1828\n",
            "           2       0.93      0.92      0.93      1803\n",
            "           3       0.88      0.87      0.88      1719\n",
            "           4       0.94      0.91      0.92      1812\n",
            "           5       0.90      0.92      0.91      1768\n",
            "           6       0.91      0.89      0.90      1832\n",
            "           7       0.94      0.92      0.93      1808\n",
            "           8       0.89      0.91      0.90      1812\n",
            "           9       0.89      0.91      0.90      1804\n",
            "\n",
            "    accuracy                           0.91     18000\n",
            "   macro avg       0.91      0.91      0.91     18000\n",
            "weighted avg       0.91      0.91      0.91     18000\n",
            "\n"
          ]
        },
        {
          "output_type": "display_data",
          "data": {
            "text/plain": [
              "<Figure size 800x500 with 2 Axes>"
            ],
            "image/png": "[encoded data removed]"
          },
          "metadata": {}
        }
      ],
      "source": [
        "# Importing required functions for performance evaluation\n",
        "\n",
        "from sklearn.metrics import classification_report\n",
        "\n",
        "from sklearn.metrics import confusion_matrix\n",
        "\n",
        "# Printing the classification report\n",
        "\n",
        "print(classification_report(y_test, test_pred))\n",
        "\n",
        "# Plotting the heatmap using confusion matrix\n",
        "\n",
        "cm = confusion_matrix(y_test, test_pred)\n",
        "\n",
        "plt.figure(figsize = (8, 5))\n",
        "\n",
        "sns.heatmap(cm, annot = True,  fmt = '.0f')\n",
        "\n",
        "plt.ylabel('Actual')\n",
        "\n",
        "plt.xlabel('Predicted')\n",
        "\n",
        "plt.show()"
      ]
    },
    {
      "cell_type": "markdown",
      "metadata": {
        "id": "TNN9v713AjQJ"
      },
      "source": [
        "**Final Observations:_________**\n",
        "\n",
        "- Most digits are predicted reasonably accurately.\n",
        "- Individual breakdown shows some obvious confusions:\n",
        "\n",
        " - 0 has the most confusion with 9 and 6\n",
        " - 1 has the most confusion with 3 and 7\n",
        " - 2 has big confusion with 7 but surprisingly with 9 as well.\n",
        " - 3 has the most confusion with 5\n",
        " - 4 is misclassified as 1 or 9 the most\n",
        " - 5 is misclassified as 3 the most\n",
        " - 6 is misclassified as 5 the most\n",
        " - 7 is misclassified as 1 overwhelmingly\n",
        " - 8 is misclassified as 6 a lot\n",
        " - 9 is misclassified as 0 or 8 the most\n",
        "\n",
        "- In terms of Average values, all of them, Precision, recall, F1 score, are 0.91."
      ]
    },
    {
      "cell_type": "markdown",
      "source": [
        "**Comparing the number of parameters in ANNs and CNNs**\n",
        "\n",
        "- Both ANN models were poor in performance and evaluation. The number of parameters was around 68K for the first model with just two dense layers and ~ 310K for the second model with 5 layers. But even then the validation accuracy was not great, 67% for Model 1 and 75% for Model 2.  The models were not able to generalize the traing well.\n",
        "\n",
        "- CNN model 1 performed better with lower number of parameters. It had two convolutional layers and one dense layer with 267K parameters. Another new feature was the Leaky ReLU activation. The validation accuracy was 87%, significantly better than ANN.\n",
        "\n",
        "- The best model so far was CNN Model 2 with 4 Convolutional layers along with dropout and Batch Normalization. Total parameters were 164362, and it achieved a validation accuracy of 92%.\n",
        "\n",
        "Effectively, CNNs reduced the number of parameters while increasing the accuracy."
      ],
      "metadata": {
        "id": "fQyXl2Th7Nxq"
      }
    },
    {
      "cell_type": "code",
      "source": [],
      "metadata": {
        "id": "JgczOdhYot1V"
      },
      "execution_count": null,
      "outputs": []
    }
  ],
  "metadata": {
    "colab": {
      "provenance": [],
      "gpuType": "T4"
    },
    "kernelspec": {
      "display_name": "Python 3",
      "name": "python3"
    },
    "language_info": {
      "codemirror_mode": {
        "name": "ipython",
        "version": 3
      },
      "file_extension": ".py",
      "mimetype": "text/x-python",
      "name": "python",
      "nbconvert_exporter": "python",
      "pygments_lexer": "ipython3",
      "version": "3.9.7"
    }
  },
  "nbformat": 4,
  "nbformat_minor": 0
}